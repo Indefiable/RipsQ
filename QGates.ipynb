{
 "cells": [
  {
   "cell_type": "markdown",
   "id": "ceda7609",
   "metadata": {},
   "source": [
    "# Quantum gates"
   ]
  },
  {
   "cell_type": "markdown",
   "id": "98ae8cc7",
   "metadata": {},
   "source": [
    "## Single qubit gates"
   ]
  },
  {
   "cell_type": "markdown",
   "id": "1cdc03c1",
   "metadata": {},
   "source": [
    "Single qubit gates are 2 by 2 unitary matrix. \n",
    "We can establish a abstract class for quantum gates as follows"
   ]
  },
  {
   "cell_type": "code",
   "execution_count": 19,
   "id": "88fb178f",
   "metadata": {},
   "outputs": [],
   "source": [
    "import numpy as np\n",
    "qtype = np.complex64\n",
    "class QuantumGate:\n",
    "\n",
    "    def __init__(self, num_qubits: int) -> None:\n",
    "        self.num_qubits = num_qubits\n",
    "        self._dagger = False    \n",
    "    \n",
    "    def matrix(self) -> NotImplementedError:\n",
    "        raise NotImplementedError(\"Subclasses must implement matrix method.\")\n",
    "\n",
    "    def dagger(self) -> None:\n",
    "        self._dagger = True\n",
    "\n",
    "    def is_dagger(self) ->bool:\n",
    "        return self._dagger"
   ]
  },
  {
   "cell_type": "markdown",
   "id": "00fa147b",
   "metadata": {},
   "source": [
    "## The zoo of quantum gates"
   ]
  },
  {
   "cell_type": "code",
   "execution_count": 20,
   "id": "fb3c0b1e",
   "metadata": {},
   "outputs": [],
   "source": [
    "class Hadamard(QuantumGate):\n",
    "    def __init__(self) -> None:\n",
    "        super().__init__(num_qubits=1)\n",
    "\n",
    "    def matrix(self) -> np.ndarray:\n",
    "        # Define the Hadamard matrix for a single qubit\n",
    "        hadamard = np.array([[1, 1], [1, -1]], dtype=qtype) / np.sqrt(2)\n",
    "        return hadamard if not self._dagger else np.matrix.getH(hadamard)\n",
    "\n",
    "    def dagger(self) -> None:\n",
    "        self._dagger = True\n",
    "\n",
    "    def is_dagger(self) ->bool:\n",
    "        return self._dagger"
   ]
  },
  {
   "cell_type": "code",
   "execution_count": 21,
   "id": "11a14fe9",
   "metadata": {},
   "outputs": [
    {
     "name": "stdout",
     "output_type": "stream",
     "text": [
      "[[ 0.70710677+0.j  0.70710677+0.j]\n",
      " [ 0.70710677+0.j -0.70710677+0.j]]\n"
     ]
    }
   ],
   "source": [
    "H=Hadamard()\n",
    "print(H.matrix())"
   ]
  },
  {
   "cell_type": "code",
   "execution_count": 22,
   "id": "cfe754e7",
   "metadata": {},
   "outputs": [],
   "source": [
    "class PauliX(QuantumGate):\n",
    "    def __init__(self):\n",
    "        super().__init__(num_qubits=1)\n",
    "\n",
    "    def matrix(self) -> np.ndarray:\n",
    "        paulix = np.array([[0, 1], [1, 0]], dtype=qtype)\n",
    "        return paulix if not self._dagger else np.matrix.getH(paulix)\n",
    "\n",
    "    def __str__(self) -> str:\n",
    "        return \"X\""
   ]
  },
  {
   "cell_type": "code",
   "execution_count": 23,
   "id": "e9db18f5",
   "metadata": {},
   "outputs": [
    {
     "name": "stdout",
     "output_type": "stream",
     "text": [
      "[[0.+0.j 1.+0.j]\n",
      " [1.+0.j 0.+0.j]]\n"
     ]
    }
   ],
   "source": [
    "X=PauliX()\n",
    "print(X.matrix())"
   ]
  },
  {
   "cell_type": "code",
   "execution_count": 24,
   "id": "a0e7711f",
   "metadata": {},
   "outputs": [],
   "source": [
    "class PauliY(QuantumGate):\n",
    "    def __init__(self):\n",
    "        super().__init__(num_qubits=1)\n",
    "\n",
    "    def matrix(self) -> np.ndarray:\n",
    "        pauliy = np.array([[0, -1j], [1j, 0]], dtype=qtype)\n",
    "        return pauliy if not self._dagger else np.matrix.getH(pauliy)\n",
    "\n",
    "    def __str__(self) -> str:\n",
    "        return \"Y\""
   ]
  },
  {
   "cell_type": "code",
   "execution_count": 25,
   "id": "4f084f09",
   "metadata": {},
   "outputs": [
    {
     "name": "stdout",
     "output_type": "stream",
     "text": [
      "[[ 0.+0.j -0.-1.j]\n",
      " [ 0.+1.j  0.+0.j]]\n"
     ]
    }
   ],
   "source": [
    "Y=PauliY()\n",
    "print(Y.matrix())"
   ]
  },
  {
   "cell_type": "code",
   "execution_count": 29,
   "id": "ae71c8a2",
   "metadata": {},
   "outputs": [],
   "source": [
    "class PauliZ(QuantumGate):\n",
    "    def __init__(self) -> None:\n",
    "        super().__init__(num_qubits=1)\n",
    "\n",
    "    def matrix(self) -> np.ndarray:\n",
    "        pauliz = np.array([[1, 0], [0, -1]], dtype=qtype)\n",
    "        return pauliz if not self._dagger else np.matrix.getH(pauliz)\n",
    "\n",
    "    def __str__(self) -> str:\n",
    "        return \"Z\""
   ]
  },
  {
   "cell_type": "code",
   "execution_count": 30,
   "id": "98db02ed",
   "metadata": {},
   "outputs": [
    {
     "name": "stdout",
     "output_type": "stream",
     "text": [
      "[[ 1.+0.j  0.+0.j]\n",
      " [ 0.+0.j -1.+0.j]]\n"
     ]
    }
   ],
   "source": [
    "Z=PauliZ()\n",
    "print(Z.matrix())"
   ]
  },
  {
   "cell_type": "code",
   "execution_count": 41,
   "id": "661c3198",
   "metadata": {},
   "outputs": [],
   "source": [
    "class RotateX(QuantumGate):\n",
    "    def __init__(self, theta: qtype) -> None:\n",
    "        super().__init__(num_qubits=1)\n",
    "        self.theta = theta\n",
    "\n",
    "    def matrix(self) -> np.ndarray:\n",
    "        rotatex = np.array([[np.cos(self.theta / 2), -1j * np.sin(self.theta / 2)],\n",
    "                            [-1j * np.sin(self.theta / 2), np.cos(self.theta / 2)]], dtype=qtype)\n",
    "        return rotatex if not self._dagger else np.matrix.getH(rotatex)\n",
    "\n",
    "    def __str__(self) -> str:\n",
    "        return f\"Rx({self.theta})\""
   ]
  },
  {
   "cell_type": "code",
   "execution_count": 42,
   "id": "4a647895",
   "metadata": {},
   "outputs": [
    {
     "name": "stdout",
     "output_type": "stream",
     "text": [
      "[[0.70710677+0.j         0.        -0.70710677j]\n",
      " [0.        -0.70710677j 0.70710677+0.j        ]]\n"
     ]
    }
   ],
   "source": [
    "Rx=RotateX(np.pi/2)\n",
    "print(Rx.matrix())"
   ]
  },
  {
   "cell_type": "code",
   "execution_count": 46,
   "id": "7fa25c64",
   "metadata": {},
   "outputs": [],
   "source": [
    "class RotateY(QuantumGate):\n",
    "    def __init__(self, theta: qtype) -> None:\n",
    "        super().__init__(num_qubits=1)\n",
    "        self.theta = theta\n",
    "\n",
    "    def matrix(self) -> np.ndarray:\n",
    "        rotatey = np.array(\n",
    "            [[np.cos(self.theta / 2), -np.sin(self.theta / 2)], [np.sin(self.theta / 2), np.cos(self.theta / 2)]],\n",
    "            dtype=qtype)\n",
    "        return rotatey if not self._dagger else np.matrix.getH(rotatey)\n",
    "\n",
    "    def __str__(self) -> str:\n",
    "        return f\"Ry({self.theta})\""
   ]
  },
  {
   "cell_type": "code",
   "execution_count": 47,
   "id": "8c002781",
   "metadata": {},
   "outputs": [
    {
     "name": "stdout",
     "output_type": "stream",
     "text": [
      "[[ 0.70710677+0.j -0.70710677+0.j]\n",
      " [ 0.70710677+0.j  0.70710677+0.j]]\n"
     ]
    }
   ],
   "source": [
    "Ry=RotateY(np.pi/2)\n",
    "print(Ry.matrix())"
   ]
  },
  {
   "cell_type": "code",
   "execution_count": 50,
   "id": "9e0c4684",
   "metadata": {},
   "outputs": [],
   "source": [
    "class RotateZ(QuantumGate):\n",
    "    def __init__(self, theta: qtype) -> None:\n",
    "        super().__init__(num_qubits=1)\n",
    "        self.theta = theta\n",
    "\n",
    "    def matrix(self) -> np.ndarray:\n",
    "        rotatez = np.array([[np.exp(-1j * self.theta / 2), 0], [0, np.exp(1j * self.theta / 2)]], dtype=qtype)\n",
    "        return rotatez if not self._dagger else np.matrix.getH(rotatez)\n",
    "\n",
    "    def __str__(self) -> str:\n",
    "        return f\"Rz({self.theta})\"\n"
   ]
  },
  {
   "cell_type": "code",
   "execution_count": 51,
   "id": "c2d976db",
   "metadata": {},
   "outputs": [
    {
     "name": "stdout",
     "output_type": "stream",
     "text": [
      "[[0.70710677-0.70710677j 0.        +0.j        ]\n",
      " [0.        +0.j         0.70710677+0.70710677j]]\n"
     ]
    }
   ],
   "source": [
    "Rz=RotateZ(np.pi/2)\n",
    "print(Rz.matrix())"
   ]
  },
  {
   "cell_type": "code",
   "execution_count": 52,
   "id": "5394d6db",
   "metadata": {},
   "outputs": [],
   "source": [
    "class Phase(QuantumGate):\n",
    "    def __init__(self) -> None:\n",
    "        super().__init__(num_qubits=1)\n",
    "\n",
    "    def matrix(self) -> np.ndarray:\n",
    "        phase = np.array([[1, 0], [0, 1j]])\n",
    "        return phase if not self._dagger else np.matrix.getH(phase)\n",
    "\n",
    "    def __str__(self) -> str:\n",
    "        return \"S\"\n"
   ]
  },
  {
   "cell_type": "code",
   "execution_count": 53,
   "id": "e2e9745d",
   "metadata": {},
   "outputs": [
    {
     "name": "stdout",
     "output_type": "stream",
     "text": [
      "[[1.+0.j 0.+0.j]\n",
      " [0.+0.j 0.+1.j]]\n"
     ]
    }
   ],
   "source": [
    "S=Phase()\n",
    "print(S.matrix())"
   ]
  },
  {
   "cell_type": "code",
   "execution_count": 57,
   "id": "62bc635d",
   "metadata": {},
   "outputs": [],
   "source": [
    "class TGate(QuantumGate):\n",
    "    def __init__(self) -> None:\n",
    "        super().__init__(num_qubits=1)\n",
    "\n",
    "    def matrix(self) -> np.ndarray:\n",
    "        t = np.array([[1, 0], [0, np.exp(1j * np.pi / 4)]], dtype=qtype)\n",
    "        return t if not self._dagger else np.matrix.getH(t)\n",
    "\n",
    "    def __str__(self) -> str:\n",
    "        return \"T\"\n"
   ]
  },
  {
   "cell_type": "code",
   "execution_count": 58,
   "id": "a43c8f25",
   "metadata": {},
   "outputs": [
    {
     "name": "stdout",
     "output_type": "stream",
     "text": [
      "[[1.        +0.j         0.        +0.j        ]\n",
      " [0.        +0.j         0.70710677+0.70710677j]]\n"
     ]
    }
   ],
   "source": [
    "T=TGate()\n",
    "print(T.matrix())"
   ]
  },
  {
   "cell_type": "code",
   "execution_count": 61,
   "id": "a146dbf3",
   "metadata": {},
   "outputs": [],
   "source": [
    "class CNOT(QuantumGate):\n",
    "    def __init__(self) -> None:\n",
    "        super().__init__(num_qubits=2)\n",
    "\n",
    "    def matrix(self) -> np.ndarray:\n",
    "        cnot = np.array([[1, 0, 0, 0], [0, 1, 0, 0], [0, 0, 0, 1], [0, 0, 1, 0]], dtype=qtype)\n",
    "        return cnot if not self._dagger else np.matrix.getH(cnot)\n",
    "\n",
    "    def __str__(self) -> str:\n",
    "        return \"CNOT\""
   ]
  },
  {
   "cell_type": "code",
   "execution_count": 62,
   "id": "bc3c1d61",
   "metadata": {},
   "outputs": [
    {
     "name": "stdout",
     "output_type": "stream",
     "text": [
      "[[1.+0.j 0.+0.j 0.+0.j 0.+0.j]\n",
      " [0.+0.j 1.+0.j 0.+0.j 0.+0.j]\n",
      " [0.+0.j 0.+0.j 0.+0.j 1.+0.j]\n",
      " [0.+0.j 0.+0.j 1.+0.j 0.+0.j]]\n"
     ]
    }
   ],
   "source": [
    "Cnot=CNOT()\n",
    "print(Cnot.matrix())"
   ]
  },
  {
   "cell_type": "markdown",
   "id": "1ff2180f",
   "metadata": {},
   "source": [
    "# Exercises "
   ]
  },
  {
   "cell_type": "markdown",
   "id": "83128492",
   "metadata": {},
   "source": [
    "1. Show that HXH=Z, HZH=X"
   ]
  },
  {
   "cell_type": "markdown",
   "id": "f863fd78",
   "metadata": {},
   "source": [
    "# Tensor product"
   ]
  },
  {
   "cell_type": "markdown",
   "id": "3637be29",
   "metadata": {},
   "source": [
    "We can use the kron product in numpy to implement tensor product"
   ]
  },
  {
   "cell_type": "code",
   "execution_count": 64,
   "id": "9b6a2642",
   "metadata": {},
   "outputs": [
    {
     "name": "stdout",
     "output_type": "stream",
     "text": [
      "[[ 0.        +0.j  0.        +0.j  0.70710677+0.j  0.70710677+0.j]\n",
      " [ 0.        +0.j -0.        +0.j  0.70710677+0.j -0.70710677+0.j]\n",
      " [ 0.70710677+0.j  0.70710677+0.j  0.        +0.j  0.        +0.j]\n",
      " [ 0.70710677+0.j -0.70710677+0.j  0.        +0.j -0.        +0.j]]\n"
     ]
    }
   ],
   "source": [
    "X=PauliX()\n",
    "H=Hadamard()\n",
    "print(np.kron(X.matrix(),H.matrix()))"
   ]
  },
  {
   "cell_type": "code",
   "execution_count": null,
   "id": "dde3fab4",
   "metadata": {},
   "outputs": [],
   "source": []
  }
 ],
 "metadata": {
  "kernelspec": {
   "display_name": "Python 3 (ipykernel)",
   "language": "python",
   "name": "python3"
  },
  "language_info": {
   "codemirror_mode": {
    "name": "ipython",
    "version": 3
   },
   "file_extension": ".py",
   "mimetype": "text/x-python",
   "name": "python",
   "nbconvert_exporter": "python",
   "pygments_lexer": "ipython3",
   "version": "3.9.15"
  }
 },
 "nbformat": 4,
 "nbformat_minor": 5
}
