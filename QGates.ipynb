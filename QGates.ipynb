{
 "cells": [
  {
   "cell_type": "markdown",
   "id": "5c8c480f",
   "metadata": {},
   "source": [
    "# Quantum gates"
   ]
  },
  {
   "cell_type": "markdown",
   "id": "65f3604a",
   "metadata": {},
   "source": [
    "## Single qubit gates"
   ]
  },
  {
   "cell_type": "markdown",
   "id": "c719bfc4",
   "metadata": {},
   "source": [
    "Single qubit gates are 2 by 2 unitary matrix. \n",
    "We can establish a abstract class for quantum gates as follows"
   ]
  },
  {
   "cell_type": "code",
   "execution_count": 19,
   "id": "544eacb1",
   "metadata": {},
   "outputs": [],
   "source": [
    "import numpy as np\n",
    "qtype = np.complex64\n",
    "class QuantumGate:\n",
    "\n",
    "    def __init__(self, num_qubits: int) -> None:\n",
    "        self.num_qubits = num_qubits\n",
    "        self._dagger = False    \n",
    "    \n",
    "    def matrix(self) -> NotImplementedError:\n",
    "        raise NotImplementedError(\"Subclasses must implement matrix method.\")\n",
    "\n",
    "    def dagger(self) -> None:\n",
    "        self._dagger = True\n",
    "\n",
    "    def is_dagger(self) ->bool:\n",
    "        return self._dagger"
   ]
  },
  {
   "cell_type": "markdown",
   "id": "e879e2a5",
   "metadata": {},
   "source": [
    "## The zoo of quantum gates"
   ]
  },
  {
   "cell_type": "code",
   "execution_count": 20,
   "id": "0eab5a4c",
   "metadata": {},
   "outputs": [],
   "source": [
    "class Hadamard(QuantumGate):\n",
    "    def __init__(self) -> None:\n",
    "        super().__init__(num_qubits=1)\n",
    "\n",
    "    def matrix(self) -> np.ndarray:\n",
    "        # Define the Hadamard matrix for a single qubit\n",
    "        hadamard = np.array([[1, 1], [1, -1]], dtype=qtype) / np.sqrt(2)\n",
    "        return hadamard if not self._dagger else np.matrix.getH(hadamard)\n",
    "\n",
    "    def dagger(self) -> None:\n",
    "        self._dagger = True\n",
    "\n",
    "    def is_dagger(self) ->bool:\n",
    "        return self._dagger"
   ]
  },
  {
   "cell_type": "code",
   "execution_count": 21,
   "id": "4ca1cfb6",
   "metadata": {},
   "outputs": [
    {
     "name": "stdout",
     "output_type": "stream",
     "text": [
      "[[ 0.70710677+0.j  0.70710677+0.j]\n",
      " [ 0.70710677+0.j -0.70710677+0.j]]\n"
     ]
    }
   ],
   "source": [
    "H=Hadamard()\n",
    "print(H.matrix())"
   ]
  },
  {
   "cell_type": "code",
   "execution_count": 22,
   "id": "d8ded7cb",
   "metadata": {},
   "outputs": [],
   "source": [
    "class PauliX(QuantumGate):\n",
    "    def __init__(self):\n",
    "        super().__init__(num_qubits=1)\n",
    "\n",
    "    def matrix(self) -> np.ndarray:\n",
    "        paulix = np.array([[0, 1], [1, 0]], dtype=qtype)\n",
    "        return paulix if not self._dagger else np.matrix.getH(paulix)\n",
    "\n",
    "    def __str__(self) -> str:\n",
    "        return \"X\""
   ]
  },
  {
   "cell_type": "code",
   "execution_count": 23,
   "id": "e4b3d215",
   "metadata": {},
   "outputs": [
    {
     "name": "stdout",
     "output_type": "stream",
     "text": [
      "[[0.+0.j 1.+0.j]\n",
      " [1.+0.j 0.+0.j]]\n"
     ]
    }
   ],
   "source": [
    "X=PauliX()\n",
    "print(X.matrix())"
   ]
  },
  {
   "cell_type": "code",
   "execution_count": 24,
   "id": "2464a267",
   "metadata": {},
   "outputs": [],
   "source": [
    "class PauliY(QuantumGate):\n",
    "    def __init__(self):\n",
    "        super().__init__(num_qubits=1)\n",
    "\n",
    "    def matrix(self) -> np.ndarray:\n",
    "        pauliy = np.array([[0, -1j], [1j, 0]], dtype=qtype)\n",
    "        return pauliy if not self._dagger else np.matrix.getH(pauliy)\n",
    "\n",
    "    def __str__(self) -> str:\n",
    "        return \"Y\""
   ]
  },
  {
   "cell_type": "code",
   "execution_count": 25,
   "id": "de9080fd",
   "metadata": {},
   "outputs": [
    {
     "name": "stdout",
     "output_type": "stream",
     "text": [
      "[[ 0.+0.j -0.-1.j]\n",
      " [ 0.+1.j  0.+0.j]]\n"
     ]
    }
   ],
   "source": [
    "Y=PauliY()\n",
    "print(Y.matrix())"
   ]
  },
  {
   "cell_type": "code",
   "execution_count": 29,
   "id": "2a5e0262",
   "metadata": {},
   "outputs": [],
   "source": [
    "class PauliZ(QuantumGate):\n",
    "    def __init__(self) -> None:\n",
    "        super().__init__(num_qubits=1)\n",
    "\n",
    "    def matrix(self) -> np.ndarray:\n",
    "        pauliz = np.array([[1, 0], [0, -1]], dtype=qtype)\n",
    "        return pauliz if not self._dagger else np.matrix.getH(pauliz)\n",
    "\n",
    "    def __str__(self) -> str:\n",
    "        return \"Z\""
   ]
  },
  {
   "cell_type": "code",
   "execution_count": 30,
   "id": "eba70567",
   "metadata": {},
   "outputs": [
    {
     "name": "stdout",
     "output_type": "stream",
     "text": [
      "[[ 1.+0.j  0.+0.j]\n",
      " [ 0.+0.j -1.+0.j]]\n"
     ]
    }
   ],
   "source": [
    "Z=PauliZ()\n",
    "print(Z.matrix())"
   ]
  },
  {
   "cell_type": "code",
   "execution_count": 41,
   "id": "98bf0ec7",
   "metadata": {},
   "outputs": [],
   "source": [
    "class RotateX(QuantumGate):\n",
    "    def __init__(self, theta: qtype) -> None:\n",
    "        super().__init__(num_qubits=1)\n",
    "        self.theta = theta\n",
    "\n",
    "    def matrix(self) -> np.ndarray:\n",
    "        rotatex = np.array([[np.cos(self.theta / 2), -1j * np.sin(self.theta / 2)],\n",
    "                            [-1j * np.sin(self.theta / 2), np.cos(self.theta / 2)]], dtype=qtype)\n",
    "        return rotatex if not self._dagger else np.matrix.getH(rotatex)\n",
    "\n",
    "    def __str__(self) -> str:\n",
    "        return f\"Rx({self.theta})\""
   ]
  },
  {
   "cell_type": "code",
   "execution_count": 42,
   "id": "d075a639",
   "metadata": {},
   "outputs": [
    {
     "name": "stdout",
     "output_type": "stream",
     "text": [
      "[[0.70710677+0.j         0.        -0.70710677j]\n",
      " [0.        -0.70710677j 0.70710677+0.j        ]]\n"
     ]
    }
   ],
   "source": [
    "Rx=RotateX(np.pi/2)\n",
    "print(Rx.matrix())"
   ]
  },
  {
   "cell_type": "code",
   "execution_count": 46,
   "id": "b1c1cd74",
   "metadata": {},
   "outputs": [],
   "source": [
    "class RotateY(QuantumGate):\n",
    "    def __init__(self, theta: qtype) -> None:\n",
    "        super().__init__(num_qubits=1)\n",
    "        self.theta = theta\n",
    "\n",
    "    def matrix(self) -> np.ndarray:\n",
    "        rotatey = np.array(\n",
    "            [[np.cos(self.theta / 2), -np.sin(self.theta / 2)], [np.sin(self.theta / 2), np.cos(self.theta / 2)]],\n",
    "            dtype=qtype)\n",
    "        return rotatey if not self._dagger else np.matrix.getH(rotatey)\n",
    "\n",
    "    def __str__(self) -> str:\n",
    "        return f\"Ry({self.theta})\""
   ]
  },
  {
   "cell_type": "code",
   "execution_count": 47,
   "id": "cea89e05",
   "metadata": {},
   "outputs": [
    {
     "name": "stdout",
     "output_type": "stream",
     "text": [
      "[[ 0.70710677+0.j -0.70710677+0.j]\n",
      " [ 0.70710677+0.j  0.70710677+0.j]]\n"
     ]
    }
   ],
   "source": [
    "Ry=RotateY(np.pi/2)\n",
    "print(Ry.matrix())"
   ]
  },
  {
   "cell_type": "code",
   "execution_count": 50,
   "id": "40f9e16b",
   "metadata": {},
   "outputs": [],
   "source": [
    "class RotateZ(QuantumGate):\n",
    "    def __init__(self, theta: qtype) -> None:\n",
    "        super().__init__(num_qubits=1)\n",
    "        self.theta = theta\n",
    "\n",
    "    def matrix(self) -> np.ndarray:\n",
    "        rotatez = np.array([[np.exp(-1j * self.theta / 2), 0], [0, np.exp(1j * self.theta / 2)]], dtype=qtype)\n",
    "        return rotatez if not self._dagger else np.matrix.getH(rotatez)\n",
    "\n",
    "    def __str__(self) -> str:\n",
    "        return f\"Rz({self.theta})\"\n"
   ]
  },
  {
   "cell_type": "code",
   "execution_count": 51,
   "id": "4023607b",
   "metadata": {},
   "outputs": [
    {
     "name": "stdout",
     "output_type": "stream",
     "text": [
      "[[0.70710677-0.70710677j 0.        +0.j        ]\n",
      " [0.        +0.j         0.70710677+0.70710677j]]\n"
     ]
    }
   ],
   "source": [
    "Rz=RotateZ(np.pi/2)\n",
    "print(Rz.matrix())"
   ]
  },
  {
   "cell_type": "code",
   "execution_count": 52,
   "id": "a113f5dd",
   "metadata": {},
   "outputs": [],
   "source": [
    "class Phase(QuantumGate):\n",
    "    def __init__(self) -> None:\n",
    "        super().__init__(num_qubits=1)\n",
    "\n",
    "    def matrix(self) -> np.ndarray:\n",
    "        phase = np.array([[1, 0], [0, 1j]])\n",
    "        return phase if not self._dagger else np.matrix.getH(phase)\n",
    "\n",
    "    def __str__(self) -> str:\n",
    "        return \"S\"\n"
   ]
  },
  {
   "cell_type": "code",
   "execution_count": 53,
   "id": "3a3c10df",
   "metadata": {},
   "outputs": [
    {
     "name": "stdout",
     "output_type": "stream",
     "text": [
      "[[1.+0.j 0.+0.j]\n",
      " [0.+0.j 0.+1.j]]\n"
     ]
    }
   ],
   "source": [
    "S=Phase()\n",
    "print(S.matrix())"
   ]
  },
  {
   "cell_type": "code",
   "execution_count": 57,
   "id": "d40abf78",
   "metadata": {},
   "outputs": [],
   "source": [
    "class TGate(QuantumGate):\n",
    "    def __init__(self) -> None:\n",
    "        super().__init__(num_qubits=1)\n",
    "\n",
    "    def matrix(self) -> np.ndarray:\n",
    "        t = np.array([[1, 0], [0, np.exp(1j * np.pi / 4)]], dtype=qtype)\n",
    "        return t if not self._dagger else np.matrix.getH(t)\n",
    "\n",
    "    def __str__(self) -> str:\n",
    "        return \"T\"\n"
   ]
  },
  {
   "cell_type": "code",
   "execution_count": 58,
   "id": "a87a5af1",
   "metadata": {},
   "outputs": [
    {
     "name": "stdout",
     "output_type": "stream",
     "text": [
      "[[1.        +0.j         0.        +0.j        ]\n",
      " [0.        +0.j         0.70710677+0.70710677j]]\n"
     ]
    }
   ],
   "source": [
    "T=TGate()\n",
    "print(T.matrix())"
   ]
  },
  {
   "cell_type": "markdown",
   "id": "ca780ad7",
   "metadata": {},
   "source": [
    "# Tensor product"
   ]
  },
  {
   "cell_type": "markdown",
   "id": "1d19582c",
   "metadata": {},
   "source": [
    "We can use the kron product in numpy to implement tensor product"
   ]
  },
  {
   "cell_type": "code",
   "execution_count": null,
   "id": "a82e7272",
   "metadata": {},
   "outputs": [],
   "source": []
  }
 ],
 "metadata": {
  "kernelspec": {
   "display_name": "Python 3 (ipykernel)",
   "language": "python",
   "name": "python3"
  },
  "language_info": {
   "codemirror_mode": {
    "name": "ipython",
    "version": 3
   },
   "file_extension": ".py",
   "mimetype": "text/x-python",
   "name": "python",
   "nbconvert_exporter": "python",
   "pygments_lexer": "ipython3",
   "version": "3.9.15"
  }
 },
 "nbformat": 4,
 "nbformat_minor": 5
}
