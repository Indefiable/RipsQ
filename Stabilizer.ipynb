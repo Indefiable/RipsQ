{
 "cells": [
  {
   "cell_type": "markdown",
   "id": "8a4c0811",
   "metadata": {},
   "source": [
    "# Understanding stabilizer"
   ]
  },
  {
   "cell_type": "code",
   "execution_count": 1,
   "id": "0f459b51",
   "metadata": {},
   "outputs": [],
   "source": [
    "import numpy as np\n",
    "qtype = np.complex64\n",
    "class QuantumGate:\n",
    "\n",
    "    def __init__(self, num_qubits: int) -> None:\n",
    "        self.num_qubits = num_qubits\n",
    "        self._dagger = False    \n",
    "    \n",
    "    def matrix(self) -> NotImplementedError:\n",
    "        raise NotImplementedError(\"Subclasses must implement matrix method.\")\n",
    "\n",
    "    def dagger(self) -> None:\n",
    "        self._dagger = True\n",
    "\n",
    "    def is_dagger(self) ->bool:\n",
    "        return self._dagger\n"
   ]
  },
  {
   "cell_type": "markdown",
   "id": "3124772a",
   "metadata": {},
   "source": [
    "# Class of quantum state"
   ]
  },
  {
   "cell_type": "code",
   "execution_count": 14,
   "id": "16d6ec4c",
   "metadata": {},
   "outputs": [],
   "source": [
    "\n",
    "class QuantumState:\n",
    "\n",
    "    def __init__(self, state_vector: np.ndarray[qtype] = None, qubit_number: int = 1) -> None:\n",
    "        '''\n",
    "        If the user doesn't specify the state vecter, we will create a default state\n",
    "        |000...000> for him.\n",
    "        '''\n",
    "        if state_vector is None:\n",
    "            state_vector = np.array([0] * (2 ** qubit_number), dtype=qtype)\n",
    "            state_vector[0] = 1\n",
    "        # The input dimension of state vector must be (n,)\n",
    "        elif len(list(state_vector.shape)) > 1:\n",
    "            raise ValueError(f\"Invalid dimension: {state_vector} is not a vector.\")\n",
    "        self.qubit_number = qubit_number\n",
    "        if 2 ** qubit_number != state_vector.shape[0]:\n",
    "            raise ValueError(\"Qubit number doesn't match the shape of the state vector\")\n",
    "        self.state_vector = state_vector\n",
    "        self.normalize()\n",
    "\n",
    "    '''\n",
    "    Reset the state.\n",
    "    '''\n",
    "\n",
    "    def reset_state(self, state_vector: np.ndarray[qtype] = None) -> None:\n",
    "        # The input dimension of state vector must be (n,)\n",
    "        if len(list(state_vector.shape)) > 1:\n",
    "            raise ValueError(f\"Invalid dimension: {state_vector} is not a vector.\")\n",
    "        self.qubit_number = self.qubit_number\n",
    "        '''\n",
    "        If the user doesn't specify the state vecter, we will create a default state\n",
    "        |000...000> for him.\n",
    "        '''\n",
    "        if state_vector is None:\n",
    "            state_vector = np.array([0] * (2 ** self.qubit_number), dtype=qtype)\n",
    "            state_vector[0] = 1\n",
    "        if 2 ** self.qubit_number != state_vector.shape[0]:\n",
    "            raise ValueError(\"Qubit number doesn't match the shape of the state vector\")\n",
    "        self.state_vector = state_vector\n",
    "        # self.normalize()\n",
    "\n",
    "    def normalize(self) -> None:\n",
    "        norm = np.sqrt(sum([abs(x) ** 2 for x in self.state_vector]))\n",
    "        if norm == 0:\n",
    "            raise ValueError(f\"Invalid state vector: {self.state_vector} has norm 0\")\n",
    "        self.state_vector = np.array([x / norm for x in self.state_vector], qtype)\n",
    "\n",
    "    def inner_product(self, other_state: \"QuantumState\") -> np.ndarray:\n",
    "        if self.state_vector.shape != other_state.state_vector.shape:\n",
    "            raise ValueError(\"States must have the same dimension\")\n",
    "        return np.inner(self.state_vector, other_state.state_vector)\n",
    "\n",
    "    def tensor_product(self, other_state: \"QuantumState\") -> \"QuantumState\":\n",
    "        tensor_product_vector = np.kron(self.state_vector, other_state.state_vector)\n",
    "        return QuantumState(np.array(tensor_product_vector, dtype=qtype),\n",
    "                            qubit_number=self.qubit_number + other_state.qubit_number)\n",
    "\n",
    "    '''\n",
    "    Print the dirac notation of the state\n",
    "    '''\n",
    "\n",
    "    def show_state_dirac(self) -> None:\n",
    "        Dirac_string = \"\"\n",
    "        for i in range(1 << self.qubit_number):\n",
    "            if self.state_vector[i] != 0:\n",
    "                '''\n",
    "                If the length of Dirac_string is not 0, Should also add a plus sign\n",
    "                '''\n",
    "                if len(Dirac_string) > 0:\n",
    "                    Dirac_string += \"+\"\n",
    "                bitstring = bin(i)[2:].zfill(self.qubit_number)\n",
    "                Dirac_string += f\"{self.state_vector[i]}|{bitstring}>\"\n",
    "        print(Dirac_string)\n",
    "\n",
    "    def show_state(self) -> None:\n",
    "        print(self.state_vector)"
   ]
  },
  {
   "cell_type": "code",
   "execution_count": 8,
   "id": "74f7eee6",
   "metadata": {},
   "outputs": [],
   "source": [
    "state=QuantumState(qubit_number=1)"
   ]
  },
  {
   "cell_type": "code",
   "execution_count": 9,
   "id": "b3bb9d0b",
   "metadata": {},
   "outputs": [
    {
     "name": "stdout",
     "output_type": "stream",
     "text": [
      "(1+0j)|0>\n"
     ]
    }
   ],
   "source": [
    "state.show_state_dirac()"
   ]
  },
  {
   "cell_type": "code",
   "execution_count": 12,
   "id": "9a346aa6",
   "metadata": {},
   "outputs": [],
   "source": [
    "state=QuantumState(qubit_number=2)"
   ]
  },
  {
   "cell_type": "code",
   "execution_count": 13,
   "id": "f38613c9",
   "metadata": {},
   "outputs": [
    {
     "name": "stdout",
     "output_type": "stream",
     "text": [
      "(1+0j)|00>\n"
     ]
    }
   ],
   "source": [
    "state.show_state_dirac()"
   ]
  },
  {
   "cell_type": "markdown",
   "id": "6a81efc5",
   "metadata": {},
   "source": [
    "# (TODO) Stabilizer"
   ]
  },
  {
   "cell_type": "code",
   "execution_count": null,
   "id": "710a7af9",
   "metadata": {},
   "outputs": [],
   "source": []
  }
 ],
 "metadata": {
  "kernelspec": {
   "display_name": "Python 3 (ipykernel)",
   "language": "python",
   "name": "python3"
  },
  "language_info": {
   "codemirror_mode": {
    "name": "ipython",
    "version": 3
   },
   "file_extension": ".py",
   "mimetype": "text/x-python",
   "name": "python",
   "nbconvert_exporter": "python",
   "pygments_lexer": "ipython3",
   "version": "3.9.15"
  }
 },
 "nbformat": 4,
 "nbformat_minor": 5
}
